{
 "cells": [
  {
   "cell_type": "code",
   "execution_count": 1,
   "metadata": {
    "collapsed": true
   },
   "outputs": [],
   "source": [
    "import pandas as pd"
   ]
  },
  {
   "cell_type": "code",
   "execution_count": 16,
   "metadata": {
    "collapsed": true
   },
   "outputs": [],
   "source": [
    "reps = pd.read_csv('reps.csv')\n",
    "reps2 = pd.read_csv('reps2.csv')"
   ]
  },
  {
   "cell_type": "code",
   "execution_count": 17,
   "metadata": {
    "collapsed": false
   },
   "outputs": [
    {
     "data": {
      "text/html": [
       "<div>\n",
       "<table border=\"1\" class=\"dataframe\">\n",
       "  <thead>\n",
       "    <tr style=\"text-align: right;\">\n",
       "      <th></th>\n",
       "      <th>nameFull</th>\n",
       "      <th>careerContributions</th>\n",
       "      <th>imageUrl</th>\n",
       "      <th>quote</th>\n",
       "      <th>stateAbr</th>\n",
       "      <th>quoteAnchor</th>\n",
       "      <th>quoteRef</th>\n",
       "      <th>quoteRefUrl</th>\n",
       "    </tr>\n",
       "  </thead>\n",
       "  <tbody>\n",
       "    <tr>\n",
       "      <th>0</th>\n",
       "      <td>Robert Aderholt</td>\n",
       "      <td>$358,030</td>\n",
       "      <td>http://interactives.americanprogressaction.org...</td>\n",
       "      <td>\"I fall into the second group of people who be...</td>\n",
       "      <td>AL</td>\n",
       "      <td>fhkltihov</td>\n",
       "      <td>Daily Mountain Eagle Op-Ed, 12/13/10</td>\n",
       "      <td>https://aderholt.house.gov/media-center/in-the...</td>\n",
       "    </tr>\n",
       "  </tbody>\n",
       "</table>\n",
       "</div>"
      ],
      "text/plain": [
       "          nameFull careerContributions  \\\n",
       "0  Robert Aderholt            $358,030   \n",
       "\n",
       "                                            imageUrl  \\\n",
       "0  http://interactives.americanprogressaction.org...   \n",
       "\n",
       "                                               quote stateAbr quoteAnchor  \\\n",
       "0  \"I fall into the second group of people who be...       AL   fhkltihov   \n",
       "\n",
       "                               quoteRef  \\\n",
       "0  Daily Mountain Eagle Op-Ed, 12/13/10   \n",
       "\n",
       "                                         quoteRefUrl  \n",
       "0  https://aderholt.house.gov/media-center/in-the...  "
      ]
     },
     "execution_count": 17,
     "metadata": {},
     "output_type": "execute_result"
    }
   ],
   "source": [
    "reps.head(1)"
   ]
  },
  {
   "cell_type": "code",
   "execution_count": 18,
   "metadata": {
    "collapsed": false
   },
   "outputs": [
    {
     "data": {
      "text/html": [
       "<div>\n",
       "<table border=\"1\" class=\"dataframe\">\n",
       "  <thead>\n",
       "    <tr style=\"text-align: right;\">\n",
       "      <th></th>\n",
       "      <th>District</th>\n",
       "      <th>Party</th>\n",
       "      <th>Representative</th>\n",
       "      <th>MarginOfVictory</th>\n",
       "      <th>TotalVotes</th>\n",
       "      <th>MainOpposition</th>\n",
       "      <th>BelieveClimateChange</th>\n",
       "      <th>BirthDate</th>\n",
       "      <th>DateInOffice</th>\n",
       "      <th>AgeAtTakingOfficeYear</th>\n",
       "      <th>YearsInOffice</th>\n",
       "      <th>AgeAtTakingOfficeDay</th>\n",
       "      <th>NotableQuote</th>\n",
       "      <th>YearNextElection</th>\n",
       "      <th>114Member</th>\n",
       "      <th>115Member</th>\n",
       "      <th>ProportionOfConstituentsWhoBelieveInClimateChange</th>\n",
       "      <th>PercentMarginOfPresidentialCandidateVictory</th>\n",
       "    </tr>\n",
       "  </thead>\n",
       "  <tbody>\n",
       "    <tr>\n",
       "      <th>0</th>\n",
       "      <td>Alabama District 1</td>\n",
       "      <td>Republican</td>\n",
       "      <td>Bradley Byrne</td>\n",
       "      <td>100.0%</td>\n",
       "      <td>Pending</td>\n",
       "      <td>Unopposed</td>\n",
       "      <td>NaN</td>\n",
       "      <td>NaN</td>\n",
       "      <td>NaN</td>\n",
       "      <td>NaN</td>\n",
       "      <td>NaN</td>\n",
       "      <td>NaN</td>\n",
       "      <td>NaN</td>\n",
       "      <td>NaN</td>\n",
       "      <td>1</td>\n",
       "      <td>NaN</td>\n",
       "      <td>NaN</td>\n",
       "      <td>NaN</td>\n",
       "    </tr>\n",
       "  </tbody>\n",
       "</table>\n",
       "</div>"
      ],
      "text/plain": [
       "             District       Party Representative MarginOfVictory TotalVotes  \\\n",
       "0  Alabama District 1  Republican  Bradley Byrne          100.0%    Pending   \n",
       "\n",
       "  MainOpposition  BelieveClimateChange  BirthDate  DateInOffice  \\\n",
       "0      Unopposed                   NaN        NaN           NaN   \n",
       "\n",
       "   AgeAtTakingOfficeYear  YearsInOffice  AgeAtTakingOfficeDay  NotableQuote  \\\n",
       "0                    NaN            NaN                   NaN           NaN   \n",
       "\n",
       "   YearNextElection  114Member  115Member  \\\n",
       "0               NaN          1        NaN   \n",
       "\n",
       "   ProportionOfConstituentsWhoBelieveInClimateChange  \\\n",
       "0                                                NaN   \n",
       "\n",
       "   PercentMarginOfPresidentialCandidateVictory  \n",
       "0                                          NaN  "
      ]
     },
     "execution_count": 18,
     "metadata": {},
     "output_type": "execute_result"
    }
   ],
   "source": [
    "reps2.head(1)"
   ]
  },
  {
   "cell_type": "code",
   "execution_count": 19,
   "metadata": {
    "collapsed": false
   },
   "outputs": [
    {
     "name": "stdout",
     "output_type": "stream",
     "text": [
      "Robert Aderholt\n",
      "Mo Brooks\n",
      "Gary Palmer\n",
      "Don Young\n",
      "Paul Gosar\n",
      "David Schweikert\n",
      "Trent Franks\n",
      "Rick Crawford\n",
      "Bruce Westerman\n",
      "Doug LaMalfa\n",
      "Tom McClintock\n",
      "Jeff Denham\n",
      "Devin Nunes\n",
      "Ken Calvert\n",
      "Dana Rohrabacher\n",
      "Darrell Issa\n",
      "Duncan Hunter\n",
      "Scott Tipton\n",
      "Ken Buck\n",
      "Doug Lamborn\n",
      "Mike Coffman\n",
      "Ted Yoho\n",
      "Dennis Ross\n",
      "Bill Posey\n",
      "Mario Diaz-Balart\n",
      "Jody Hice\n",
      "Tom Price\n",
      "Doug Collins\n",
      "Barry Loudermilk\n",
      "Rick Allen\n",
      "Raul Labrador\n",
      "Peter Roskam\n",
      "Mike Bost\n",
      "Rodney Davis\n",
      "Randy Hultgren\n",
      "John Shimkus\n",
      "Todd Rokita\n",
      "Larry Bucshon\n",
      "Rod Blum\n",
      "David Young\n",
      "Steve King\n",
      "Mike Pompeo\n",
      "Thomas Massie\n",
      "Steve Scalise\n",
      "Bruce Poliquin\n",
      "Bill Huizenga\n",
      "Justin Amash\n",
      "Fred Upton\n",
      "Tim Walberg\n",
      "Erik Paulsen\n",
      "Tom Emmer\n",
      "Gregg Harper\n",
      "Ann Wagner\n",
      "Blaine Luetkemeyer\n",
      "Vicky Hartzler\n",
      "Ryan Zinke\n",
      "Adrian Smith\n",
      "Mark Amodei\n",
      "Leonard Lance\n",
      "Rodney Frelinghuysen\n",
      "Steve Pearce\n",
      "Peter King\n",
      "Lee Zeldin\n",
      "John Katko\n",
      "Virginia Foxx\n",
      "Mark Walker\n",
      "David Rouzer\n",
      "Richard Hudson\n",
      "Robert Pittenger\n",
      "Patrick McHenry\n",
      "Kevin Cramer\n",
      "Steve Chabot\n",
      "Bill Johnson\n",
      "Bob Gibbs\n",
      "Steve Stivers\n",
      "Jim Bridenstine\n",
      "Markwayne Mullin\n",
      "Frank Lucas\n",
      "Scott Perry\n",
      "Glenn Thompson\n",
      "Bill Shuster\n",
      "Lou Barletta\n",
      "Keith Rothfus\n",
      "Joe Wilson\n",
      "Jeff Duncan\n",
      "Trey Gowdy\n",
      "Mick Mulvaney\n",
      "Kristi Noem\n",
      "Phil Roe\n",
      "Diane Black\n",
      "Marsha Blackburn\n",
      "Louie Gohmert\n",
      "Ted Poe\n",
      "Joe Barton\n",
      "John Culberson\n",
      "Michael McCaul\n",
      "Mike Conaway\n",
      "Mac Thornberry\n",
      "Randy Weber\n",
      "Bill Flores\n",
      "Pete Olson\n",
      "Blake Farenthold\n",
      "John Carter\n",
      "Rob Bishop\n",
      "Chris Stewart\n",
      "Jason Chaffetz\n",
      "Rob Wittman\n",
      "Bob Goodlatte\n",
      "Morgan Griffith\n",
      "Cathy McMorris Rodgers\n",
      "David McKinley\n",
      "Evan Jenkins\n",
      "Paul Ryan\n",
      "Jim Sensenbrenner\n",
      "Glenn Grothman\n",
      "115\n"
     ]
    }
   ],
   "source": [
    "count = 0\n",
    "\n",
    "for x in xrange(0,reps.shape[0]):\n",
    "    for y in xrange(0,reps2.shape[0]):\n",
    "        if reps.iloc[x]['nameFull'] == reps2.iloc[y]['Representative']:\n",
    "            print reps.iloc[x]['nameFull']\n",
    "            reps2.loc[y,'BelieveClimateChange'] = \"No\"\n",
    "            reps2.loc[y,'NotableQuote'] = reps.iloc[x]['quote']\n",
    "            count += 1;\n",
    "            break\n",
    "print count"
   ]
  },
  {
   "cell_type": "code",
   "execution_count": 20,
   "metadata": {
    "collapsed": false
   },
   "outputs": [
    {
     "name": "stdout",
     "output_type": "stream",
     "text": [
      "182\n"
     ]
    }
   ],
   "source": [
    "print reps.shape[0]"
   ]
  },
  {
   "cell_type": "code",
   "execution_count": 35,
   "metadata": {
    "collapsed": false
   },
   "outputs": [],
   "source": [
    "cong114 = pd.read_csv('114.txt')\n",
    "cong115 = pd.read_csv('115.txt')"
   ]
  },
  {
   "cell_type": "code",
   "execution_count": 36,
   "metadata": {
    "collapsed": false,
    "scrolled": false
   },
   "outputs": [
    {
     "data": {
      "text/html": [
       "<div>\n",
       "<table border=\"1\" class=\"dataframe\">\n",
       "  <thead>\n",
       "    <tr style=\"text-align: right;\">\n",
       "      <th></th>\n",
       "      <th>Rep</th>\n",
       "      <th>State</th>\n",
       "      <th>District</th>\n",
       "      <th>Representative</th>\n",
       "      <th>State.1</th>\n",
       "      <th>District.1</th>\n",
       "      <th>BirthDate</th>\n",
       "      <th>DateInOffice</th>\n",
       "      <th>AgeAtTakingOfficeYear</th>\n",
       "      <th>AgeAtTakingOfficeDay</th>\n",
       "      <th>...</th>\n",
       "      <th>Party</th>\n",
       "      <th>BelieveClimateChange</th>\n",
       "      <th>CurrentAge</th>\n",
       "      <th>NotableQuote</th>\n",
       "      <th>YearNextElection</th>\n",
       "      <th>114Member</th>\n",
       "      <th>115Member</th>\n",
       "      <th>ProportionOfConstituentsWhoBelieveInClimateChange</th>\n",
       "      <th>PercentMarginOfSenateWin</th>\n",
       "      <th>PercentMarginOfPresidentialCandidateVictory</th>\n",
       "    </tr>\n",
       "  </thead>\n",
       "  <tbody>\n",
       "    <tr>\n",
       "      <th>0</th>\n",
       "      <td>Bradley Byrne</td>\n",
       "      <td>NaN</td>\n",
       "      <td>NaN</td>\n",
       "      <td>NaN</td>\n",
       "      <td>NaN</td>\n",
       "      <td>NaN</td>\n",
       "      <td>NaN</td>\n",
       "      <td>NaN</td>\n",
       "      <td>NaN</td>\n",
       "      <td>NaN</td>\n",
       "      <td>...</td>\n",
       "      <td>NaN</td>\n",
       "      <td>NaN</td>\n",
       "      <td>NaN</td>\n",
       "      <td>NaN</td>\n",
       "      <td>NaN</td>\n",
       "      <td>NaN</td>\n",
       "      <td>NaN</td>\n",
       "      <td>NaN</td>\n",
       "      <td>NaN</td>\n",
       "      <td>NaN</td>\n",
       "    </tr>\n",
       "    <tr>\n",
       "      <th>1</th>\n",
       "      <td>Martha Roby</td>\n",
       "      <td>NaN</td>\n",
       "      <td>NaN</td>\n",
       "      <td>NaN</td>\n",
       "      <td>NaN</td>\n",
       "      <td>NaN</td>\n",
       "      <td>NaN</td>\n",
       "      <td>NaN</td>\n",
       "      <td>NaN</td>\n",
       "      <td>NaN</td>\n",
       "      <td>...</td>\n",
       "      <td>NaN</td>\n",
       "      <td>NaN</td>\n",
       "      <td>NaN</td>\n",
       "      <td>NaN</td>\n",
       "      <td>NaN</td>\n",
       "      <td>NaN</td>\n",
       "      <td>NaN</td>\n",
       "      <td>NaN</td>\n",
       "      <td>NaN</td>\n",
       "      <td>NaN</td>\n",
       "    </tr>\n",
       "    <tr>\n",
       "      <th>2</th>\n",
       "      <td>Mike Rogers</td>\n",
       "      <td>NaN</td>\n",
       "      <td>NaN</td>\n",
       "      <td>NaN</td>\n",
       "      <td>NaN</td>\n",
       "      <td>NaN</td>\n",
       "      <td>NaN</td>\n",
       "      <td>NaN</td>\n",
       "      <td>NaN</td>\n",
       "      <td>NaN</td>\n",
       "      <td>...</td>\n",
       "      <td>NaN</td>\n",
       "      <td>NaN</td>\n",
       "      <td>NaN</td>\n",
       "      <td>NaN</td>\n",
       "      <td>NaN</td>\n",
       "      <td>NaN</td>\n",
       "      <td>NaN</td>\n",
       "      <td>NaN</td>\n",
       "      <td>NaN</td>\n",
       "      <td>NaN</td>\n",
       "    </tr>\n",
       "    <tr>\n",
       "      <th>3</th>\n",
       "      <td>Robert Aderholt</td>\n",
       "      <td>NaN</td>\n",
       "      <td>NaN</td>\n",
       "      <td>NaN</td>\n",
       "      <td>NaN</td>\n",
       "      <td>NaN</td>\n",
       "      <td>NaN</td>\n",
       "      <td>NaN</td>\n",
       "      <td>NaN</td>\n",
       "      <td>NaN</td>\n",
       "      <td>...</td>\n",
       "      <td>NaN</td>\n",
       "      <td>NaN</td>\n",
       "      <td>NaN</td>\n",
       "      <td>NaN</td>\n",
       "      <td>NaN</td>\n",
       "      <td>NaN</td>\n",
       "      <td>NaN</td>\n",
       "      <td>NaN</td>\n",
       "      <td>NaN</td>\n",
       "      <td>NaN</td>\n",
       "    </tr>\n",
       "    <tr>\n",
       "      <th>4</th>\n",
       "      <td>Mo Brooks</td>\n",
       "      <td>NaN</td>\n",
       "      <td>NaN</td>\n",
       "      <td>NaN</td>\n",
       "      <td>NaN</td>\n",
       "      <td>NaN</td>\n",
       "      <td>NaN</td>\n",
       "      <td>NaN</td>\n",
       "      <td>NaN</td>\n",
       "      <td>NaN</td>\n",
       "      <td>...</td>\n",
       "      <td>NaN</td>\n",
       "      <td>NaN</td>\n",
       "      <td>NaN</td>\n",
       "      <td>NaN</td>\n",
       "      <td>NaN</td>\n",
       "      <td>NaN</td>\n",
       "      <td>NaN</td>\n",
       "      <td>NaN</td>\n",
       "      <td>NaN</td>\n",
       "      <td>NaN</td>\n",
       "    </tr>\n",
       "  </tbody>\n",
       "</table>\n",
       "<p>5 rows × 21 columns</p>\n",
       "</div>"
      ],
      "text/plain": [
       "               Rep  State  District  Representative  State.1  District.1  \\\n",
       "0    Bradley Byrne    NaN       NaN             NaN      NaN         NaN   \n",
       "1      Martha Roby    NaN       NaN             NaN      NaN         NaN   \n",
       "2      Mike Rogers    NaN       NaN             NaN      NaN         NaN   \n",
       "3  Robert Aderholt    NaN       NaN             NaN      NaN         NaN   \n",
       "4        Mo Brooks    NaN       NaN             NaN      NaN         NaN   \n",
       "\n",
       "   BirthDate  DateInOffice  AgeAtTakingOfficeYear  AgeAtTakingOfficeDay  \\\n",
       "0        NaN           NaN                    NaN                   NaN   \n",
       "1        NaN           NaN                    NaN                   NaN   \n",
       "2        NaN           NaN                    NaN                   NaN   \n",
       "3        NaN           NaN                    NaN                   NaN   \n",
       "4        NaN           NaN                    NaN                   NaN   \n",
       "\n",
       "                      ...                       Party  BelieveClimateChange  \\\n",
       "0                     ...                         NaN                   NaN   \n",
       "1                     ...                         NaN                   NaN   \n",
       "2                     ...                         NaN                   NaN   \n",
       "3                     ...                         NaN                   NaN   \n",
       "4                     ...                         NaN                   NaN   \n",
       "\n",
       "   CurrentAge  NotableQuote  YearNextElection  114Member  115Member  \\\n",
       "0         NaN           NaN               NaN        NaN        NaN   \n",
       "1         NaN           NaN               NaN        NaN        NaN   \n",
       "2         NaN           NaN               NaN        NaN        NaN   \n",
       "3         NaN           NaN               NaN        NaN        NaN   \n",
       "4         NaN           NaN               NaN        NaN        NaN   \n",
       "\n",
       "   ProportionOfConstituentsWhoBelieveInClimateChange  \\\n",
       "0                                                NaN   \n",
       "1                                                NaN   \n",
       "2                                                NaN   \n",
       "3                                                NaN   \n",
       "4                                                NaN   \n",
       "\n",
       "   PercentMarginOfSenateWin  PercentMarginOfPresidentialCandidateVictory  \n",
       "0                       NaN                                          NaN  \n",
       "1                       NaN                                          NaN  \n",
       "2                       NaN                                          NaN  \n",
       "3                       NaN                                          NaN  \n",
       "4                       NaN                                          NaN  \n",
       "\n",
       "[5 rows x 21 columns]"
      ]
     },
     "execution_count": 36,
     "metadata": {},
     "output_type": "execute_result"
    }
   ],
   "source": [
    "cong115.head()"
   ]
  },
  {
   "cell_type": "code",
   "execution_count": 37,
   "metadata": {
    "collapsed": false
   },
   "outputs": [],
   "source": [
    "freshmen = []\n",
    "oldmen = []\n",
    "\n",
    "for i in xrange(0,435):\n",
    "    if cong115.iloc[i].Rep != cong114.iloc[i].Rep:\n",
    "        freshmen.append(cong115.iloc[i].Rep)\n",
    "        oldmen.append(cong114.iloc[i].Rep)"
   ]
  },
  {
   "cell_type": "code",
   "execution_count": 38,
   "metadata": {
    "collapsed": false
   },
   "outputs": [
    {
     "name": "stdout",
     "output_type": "stream",
     "text": [
      "51\n"
     ]
    }
   ],
   "source": [
    "count = 0\n",
    "for x in xrange(0,reps2.shape[0]):\n",
    "    reps2.loc[x,'115Member'] = 1\n",
    "    for y in oldmen:\n",
    "        if reps2.iloc[x]['Representative'] == y:\n",
    "            reps2.loc[x,'115Member'] = 0\n",
    "            count += 1;\n",
    "            break\n",
    "print count"
   ]
  },
  {
   "cell_type": "code",
   "execution_count": 39,
   "metadata": {
    "collapsed": false
   },
   "outputs": [
    {
     "name": "stdout",
     "output_type": "stream",
     "text": [
      "['Ann Kirkpatrick', 'Matt Salmon', 'Mike Honda', 'Sam Farr', 'Lois Capps', 'Janice Hahn', 'Loretta Sanchez', 'John Carney', 'Jeff Miller', 'Gwen Graham', 'Ander Crenshaw', 'Corrine Brown', 'John Mica', 'Alan Grayson', 'Rich Nugent', 'David Jolly', 'Patrick Murphy', 'Curt Clawson', 'Lynn Westmoreland', 'Tammy Duckworth', 'Robert Dold', 'Marlin Stutzman', 'Todd Young', 'Tim Huelskamp', 'Charles Boustany', 'John Fleming', 'Donna Edwards', 'Chris Van Hollen', 'Joe Kennedy', 'Stephen Lynch', 'Dan Benishek', 'Candice Miller', 'John Kline', 'Brad Ashford', 'Joe Heck', 'Cresent Hardy', 'Frank Guinta', 'Scott Garrett', 'Peter King', 'Steve Israel', 'Daniel Donovan', 'Charles Rangel', 'Chris Gibson', 'Richard Hanna', 'Thomas Reed', 'Renee Ellmers', 'Walter Jones', 'George Holding', 'Mike Fitzpatrick', 'Michael Doyle', 'Charles Dent', 'Joe Pitts', 'Tim Murphy', 'Stephen Fincher', 'Ruben Hinojosa', 'Randy Neugebauer', 'Scott Rigell', 'Randy Forbes', 'Robert Hurt', 'Jim McDermott', 'Reid Ribble', 'Cynthia Lummis']\n"
     ]
    }
   ],
   "source": [
    "print freshmen"
   ]
  },
  {
   "cell_type": "code",
   "execution_count": 40,
   "metadata": {
    "collapsed": false
   },
   "outputs": [
    {
     "name": "stdout",
     "output_type": "stream",
     "text": [
      "[\"Tom O'Halleran\", 'Andy Biggs', 'Ro Khanna', 'Jimmy Panetta', 'Salud Carbajal', 'Nanette Barragan', 'Lou Correa', 'Lisa Blunt Rochester', 'Matt Gaetz', 'Neal Dunn', 'John Rutherford', 'Al Lawson', 'Stephanie Murphy', 'Darren Soto', 'Val Demings', 'Charlie Crist', 'Brian Mast', 'Francis Rooney', 'Drew Ferguson', 'Raja Krishnamoorthi', 'Brad Schneider', 'Jim Banks', 'Trey Hollingsworth', 'Roger Marshall', 'TBD', 'TBD', 'Anthony G. Brown', 'Jamie Raskin', 'Joseph P. Kennedy III', 'Stephen F. Lynch', 'Jack Bergman', 'Paul Mitchell', 'Jason Lewis', 'Don Bacon', 'Jacky Rosen', 'Ruben Kihuen', 'Carol Shea-Porter', 'Josh Gottheimer', 'Peter T. King', 'Thomas Suozzi', 'Dan Donovan', 'Adriano Espaillat', 'John Faso', 'Claudia Tenney', 'Tom Reed', 'Walter B. Jones Jr.', 'George Holding', 'Ted Budd', 'Brian Fitzpatrick', 'Michael F. Doyle', 'Charlie Dent', 'Lloyd Smucker', 'Timothy F. Murphy', 'David Kustoff', 'Vicente Gonzalez', 'Jodey Arrington', 'Scott Taylor', 'Donald McEachin', 'Thomas Garrett Jr.', 'Pramila Jayapal', 'Mike Gallagher', 'Liz Cheney']\n"
     ]
    }
   ],
   "source": [
    "print oldmen"
   ]
  },
  {
   "cell_type": "code",
   "execution_count": 42,
   "metadata": {
    "collapsed": true
   },
   "outputs": [],
   "source": [
    "reps2.to_csv('representatives.csv')"
   ]
  },
  {
   "cell_type": "code",
   "execution_count": 52,
   "metadata": {
    "collapsed": true
   },
   "outputs": [],
   "source": [
    "test = pd.read_csv('congressdata.csv')"
   ]
  },
  {
   "cell_type": "code",
   "execution_count": 56,
   "metadata": {
    "collapsed": false
   },
   "outputs": [],
   "source": [
    "cols = sorted(test.columns.values)"
   ]
  },
  {
   "cell_type": "code",
   "execution_count": 63,
   "metadata": {
    "collapsed": false
   },
   "outputs": [],
   "source": [
    "cols = ['name/first', 'name/middle', 'name/last', 'name/official_full', 'name/nickname', 'name/suffix', 'bio/birthday', 'bio/gender', 'id/ballotpedia', 'id/wikipedia', 'terms/0/address', 'terms/0/class', 'terms/0/contact_form', 'terms/0/district', 'terms/0/end', 'terms/0/fax', 'terms/0/office', 'terms/0/party', 'terms/0/phone', 'terms/0/rss_url', 'terms/0/start', 'terms/0/state', 'terms/0/state_rank', 'terms/0/type', 'terms/0/url', 'terms/1/address', 'terms/1/class', 'terms/1/contact_form', 'terms/1/district', 'terms/1/end', 'terms/1/fax', 'terms/1/office', 'terms/1/party', 'terms/1/phone', 'terms/1/rss_url', 'terms/1/start', 'terms/1/state', 'terms/1/state_rank', 'terms/1/type', 'terms/1/url', 'terms/2/address', 'terms/2/class', 'terms/2/contact_form', 'terms/2/district', 'terms/2/end', 'terms/2/fax', 'terms/2/office', 'terms/2/party', 'terms/2/phone', 'terms/2/rss_url', 'terms/2/start', 'terms/2/state', 'terms/2/state_rank', 'terms/2/type', 'terms/2/url', 'terms/3/address', 'terms/3/class', 'terms/3/contact_form', 'terms/3/district', 'terms/3/end', 'terms/3/fax', 'terms/3/office', 'terms/3/party', 'terms/3/phone', 'terms/3/rss_url', 'terms/3/start', 'terms/3/state', 'terms/3/state_rank', 'terms/3/type', 'terms/3/url', 'terms/4/address', 'terms/4/class', 'terms/4/contact_form', 'terms/4/district', 'terms/4/end', 'terms/4/fax', 'terms/4/office', 'terms/4/party', 'terms/4/phone', 'terms/4/rss_url', 'terms/4/start', 'terms/4/state', 'terms/4/state_rank', 'terms/4/type', 'terms/4/url', 'terms/5/address', 'terms/5/class', 'terms/5/contact_form', 'terms/5/district', 'terms/5/end', 'terms/5/fax', 'terms/5/office', 'terms/5/party', 'terms/5/phone', 'terms/5/rss_url', 'terms/5/start', 'terms/5/state', 'terms/5/state_rank', 'terms/5/type', 'terms/5/url', 'terms/6/address', 'terms/6/class', 'terms/6/contact_form', 'terms/6/district', 'terms/6/end', 'terms/6/fax', 'terms/6/office', 'terms/6/party', 'terms/6/phone', 'terms/6/rss_url', 'terms/6/start', 'terms/6/state', 'terms/6/state_rank', 'terms/6/type', 'terms/6/url', 'terms/7/address', 'terms/7/class', 'terms/7/contact_form', 'terms/7/district', 'terms/7/end', 'terms/7/fax', 'terms/7/office', 'terms/7/party', 'terms/7/phone', 'terms/7/rss_url', 'terms/7/start', 'terms/7/state', 'terms/7/state_rank', 'terms/7/type', 'terms/7/url', 'terms/8/address', 'terms/8/class', 'terms/8/contact_form', 'terms/8/district', 'terms/8/end', 'terms/8/fax', 'terms/8/office', 'terms/8/party', 'terms/8/phone', 'terms/8/rss_url', 'terms/8/start', 'terms/8/state', 'terms/8/state_rank', 'terms/8/type', 'terms/8/url', 'terms/9/address', 'terms/9/caucus', 'terms/9/class', 'terms/9/contact_form', 'terms/9/district', 'terms/9/end', 'terms/9/fax', 'terms/9/office', 'terms/9/party', 'terms/9/phone', 'terms/9/rss_url', 'terms/9/start', 'terms/9/state', 'terms/9/state_rank', 'terms/9/type', 'terms/9/url', 'terms/10/address', 'terms/10/class', 'terms/10/contact_form', 'terms/10/district', 'terms/10/end', 'terms/10/fax', 'terms/10/office', 'terms/10/party', 'terms/10/phone', 'terms/10/rss_url', 'terms/10/start', 'terms/10/state', 'terms/10/state_rank', 'terms/10/type', 'terms/10/url', 'terms/11/address', 'terms/11/class', 'terms/11/contact_form', 'terms/11/district', 'terms/11/end', 'terms/11/fax', 'terms/11/office', 'terms/11/party', 'terms/11/phone', 'terms/11/rss_url', 'terms/11/start', 'terms/11/state', 'terms/11/state_rank', 'terms/11/type', 'terms/11/url', 'terms/12/address', 'terms/12/contact_form', 'terms/12/district', 'terms/12/end', 'terms/12/fax', 'terms/12/office', 'terms/12/party', 'terms/12/phone', 'terms/12/rss_url', 'terms/12/start', 'terms/12/state', 'terms/12/type', 'terms/12/url', 'terms/13/address', 'terms/13/contact_form', 'terms/13/district', 'terms/13/end', 'terms/13/fax', 'terms/13/office', 'terms/13/party', 'terms/13/phone', 'terms/13/rss_url', 'terms/13/start', 'terms/13/state', 'terms/13/type', 'terms/13/url', 'terms/14/address', 'terms/14/contact_form', 'terms/14/district', 'terms/14/end', 'terms/14/fax', 'terms/14/office', 'terms/14/party', 'terms/14/phone', 'terms/14/rss_url', 'terms/14/start', 'terms/14/state', 'terms/14/type', 'terms/14/url', 'terms/15/address', 'terms/15/contact_form', 'terms/15/district', 'terms/15/end', 'terms/15/fax', 'terms/15/office', 'terms/15/party', 'terms/15/phone', 'terms/15/rss_url', 'terms/15/start', 'terms/15/state', 'terms/15/type', 'terms/15/url', 'terms/16/address', 'terms/16/contact_form', 'terms/16/district', 'terms/16/end', 'terms/16/fax', 'terms/16/office', 'terms/16/party', 'terms/16/phone', 'terms/16/rss_url', 'terms/16/start', 'terms/16/state', 'terms/16/type', 'terms/16/url', 'terms/17/address', 'terms/17/contact_form', 'terms/17/district', 'terms/17/end', 'terms/17/fax', 'terms/17/office', 'terms/17/party', 'terms/17/phone', 'terms/17/rss_url', 'terms/17/start', 'terms/17/state', 'terms/17/type', 'terms/17/url', 'terms/18/address', 'terms/18/contact_form', 'terms/18/district', 'terms/18/end', 'terms/18/fax', 'terms/18/office', 'terms/18/party', 'terms/18/phone', 'terms/18/rss_url', 'terms/18/start', 'terms/18/state', 'terms/18/type', 'terms/18/url', 'terms/19/address', 'terms/19/contact_form', 'terms/19/district', 'terms/19/end', 'terms/19/fax', 'terms/19/office', 'terms/19/party', 'terms/19/phone', 'terms/19/rss_url', 'terms/19/start', 'terms/19/state', 'terms/19/type', 'terms/19/url', 'terms/20/address', 'terms/20/class', 'terms/20/contact_form', 'terms/20/district', 'terms/20/end', 'terms/20/fax', 'terms/20/office', 'terms/20/party', 'terms/20/phone', 'terms/20/rss_url', 'terms/20/start', 'terms/20/state', 'terms/20/state_rank', 'terms/20/type', 'terms/20/url', 'terms/21/address', 'terms/21/class', 'terms/21/contact_form', 'terms/21/district', 'terms/21/end', 'terms/21/fax', 'terms/21/office', 'terms/21/party', 'terms/21/phone', 'terms/21/rss_url', 'terms/21/start', 'terms/21/state', 'terms/21/state_rank', 'terms/21/type', 'terms/21/url', 'terms/22/address', 'terms/22/contact_form', 'terms/22/district', 'terms/22/end', 'terms/22/fax', 'terms/22/office', 'terms/22/party', 'terms/22/phone', 'terms/22/rss_url', 'terms/22/start', 'terms/22/state', 'terms/22/type', 'terms/22/url', 'terms/23/address', 'terms/23/contact_form', 'terms/23/district', 'terms/23/end', 'terms/23/fax', 'terms/23/office', 'terms/23/party', 'terms/23/phone', 'terms/23/start', 'terms/23/state', 'terms/23/type', 'terms/23/url', 'terms/24/address', 'terms/24/contact_form', 'terms/24/district', 'terms/24/end', 'terms/24/fax', 'terms/24/office', 'terms/24/party', 'terms/24/phone', 'terms/24/rss_url', 'terms/24/start', 'terms/24/state', 'terms/24/type', 'terms/24/url', 'terms/25/address', 'terms/25/contact_form', 'terms/25/district', 'terms/25/end', 'terms/25/fax', 'terms/25/office', 'terms/25/party', 'terms/25/phone', 'terms/25/rss_url', 'terms/25/start', 'terms/25/state', 'terms/25/type', 'terms/25/url']"
   ]
  },
  {
   "cell_type": "code",
   "execution_count": 64,
   "metadata": {
    "collapsed": true
   },
   "outputs": [],
   "source": [
    "test = test[cols]"
   ]
  },
  {
   "cell_type": "code",
   "execution_count": 82,
   "metadata": {
    "collapsed": true
   },
   "outputs": [],
   "source": [
    "test.to_csv('sortedCongressData.csv')"
   ]
  },
  {
   "cell_type": "code",
   "execution_count": 65,
   "metadata": {
    "collapsed": false
   },
   "outputs": [
    {
     "data": {
      "text/html": [
       "<div>\n",
       "<table border=\"1\" class=\"dataframe\">\n",
       "  <thead>\n",
       "    <tr style=\"text-align: right;\">\n",
       "      <th></th>\n",
       "      <th>name/first</th>\n",
       "      <th>name/middle</th>\n",
       "      <th>name/last</th>\n",
       "      <th>name/official_full</th>\n",
       "      <th>name/nickname</th>\n",
       "      <th>name/suffix</th>\n",
       "      <th>bio/birthday</th>\n",
       "      <th>bio/gender</th>\n",
       "      <th>id/ballotpedia</th>\n",
       "      <th>id/wikipedia</th>\n",
       "      <th>...</th>\n",
       "      <th>terms/25/end</th>\n",
       "      <th>terms/25/fax</th>\n",
       "      <th>terms/25/office</th>\n",
       "      <th>terms/25/party</th>\n",
       "      <th>terms/25/phone</th>\n",
       "      <th>terms/25/rss_url</th>\n",
       "      <th>terms/25/start</th>\n",
       "      <th>terms/25/state</th>\n",
       "      <th>terms/25/type</th>\n",
       "      <th>terms/25/url</th>\n",
       "    </tr>\n",
       "  </thead>\n",
       "  <tbody>\n",
       "    <tr>\n",
       "      <th>0</th>\n",
       "      <td>Sherrod</td>\n",
       "      <td>NaN</td>\n",
       "      <td>Brown</td>\n",
       "      <td>Sherrod Brown</td>\n",
       "      <td>NaN</td>\n",
       "      <td>NaN</td>\n",
       "      <td>11/9/52</td>\n",
       "      <td>M</td>\n",
       "      <td>Sherrod Brown</td>\n",
       "      <td>Sherrod Brown</td>\n",
       "      <td>...</td>\n",
       "      <td>NaN</td>\n",
       "      <td>NaN</td>\n",
       "      <td>NaN</td>\n",
       "      <td>NaN</td>\n",
       "      <td>NaN</td>\n",
       "      <td>NaN</td>\n",
       "      <td>NaN</td>\n",
       "      <td>NaN</td>\n",
       "      <td>NaN</td>\n",
       "      <td>NaN</td>\n",
       "    </tr>\n",
       "    <tr>\n",
       "      <th>1</th>\n",
       "      <td>Maria</td>\n",
       "      <td>NaN</td>\n",
       "      <td>Cantwell</td>\n",
       "      <td>Maria Cantwell</td>\n",
       "      <td>NaN</td>\n",
       "      <td>NaN</td>\n",
       "      <td>10/13/58</td>\n",
       "      <td>F</td>\n",
       "      <td>Maria Cantwell</td>\n",
       "      <td>Maria Cantwell</td>\n",
       "      <td>...</td>\n",
       "      <td>NaN</td>\n",
       "      <td>NaN</td>\n",
       "      <td>NaN</td>\n",
       "      <td>NaN</td>\n",
       "      <td>NaN</td>\n",
       "      <td>NaN</td>\n",
       "      <td>NaN</td>\n",
       "      <td>NaN</td>\n",
       "      <td>NaN</td>\n",
       "      <td>NaN</td>\n",
       "    </tr>\n",
       "    <tr>\n",
       "      <th>2</th>\n",
       "      <td>Benjamin</td>\n",
       "      <td>L.</td>\n",
       "      <td>Cardin</td>\n",
       "      <td>Benjamin L. Cardin</td>\n",
       "      <td>NaN</td>\n",
       "      <td>NaN</td>\n",
       "      <td>10/5/43</td>\n",
       "      <td>M</td>\n",
       "      <td>Ben Cardin</td>\n",
       "      <td>Ben Cardin</td>\n",
       "      <td>...</td>\n",
       "      <td>NaN</td>\n",
       "      <td>NaN</td>\n",
       "      <td>NaN</td>\n",
       "      <td>NaN</td>\n",
       "      <td>NaN</td>\n",
       "      <td>NaN</td>\n",
       "      <td>NaN</td>\n",
       "      <td>NaN</td>\n",
       "      <td>NaN</td>\n",
       "      <td>NaN</td>\n",
       "    </tr>\n",
       "    <tr>\n",
       "      <th>3</th>\n",
       "      <td>Thomas</td>\n",
       "      <td>Richard</td>\n",
       "      <td>Carper</td>\n",
       "      <td>Thomas R. Carper</td>\n",
       "      <td>NaN</td>\n",
       "      <td>NaN</td>\n",
       "      <td>1/23/47</td>\n",
       "      <td>M</td>\n",
       "      <td>Tom Carper</td>\n",
       "      <td>Tom Carper</td>\n",
       "      <td>...</td>\n",
       "      <td>NaN</td>\n",
       "      <td>NaN</td>\n",
       "      <td>NaN</td>\n",
       "      <td>NaN</td>\n",
       "      <td>NaN</td>\n",
       "      <td>NaN</td>\n",
       "      <td>NaN</td>\n",
       "      <td>NaN</td>\n",
       "      <td>NaN</td>\n",
       "      <td>NaN</td>\n",
       "    </tr>\n",
       "    <tr>\n",
       "      <th>4</th>\n",
       "      <td>Robert</td>\n",
       "      <td>P.</td>\n",
       "      <td>Casey</td>\n",
       "      <td>Robert P. Casey, Jr.</td>\n",
       "      <td>Bob</td>\n",
       "      <td>Jr.</td>\n",
       "      <td>4/13/60</td>\n",
       "      <td>M</td>\n",
       "      <td>Bob Casey, Jr.</td>\n",
       "      <td>Bob Casey Jr.</td>\n",
       "      <td>...</td>\n",
       "      <td>NaN</td>\n",
       "      <td>NaN</td>\n",
       "      <td>NaN</td>\n",
       "      <td>NaN</td>\n",
       "      <td>NaN</td>\n",
       "      <td>NaN</td>\n",
       "      <td>NaN</td>\n",
       "      <td>NaN</td>\n",
       "      <td>NaN</td>\n",
       "      <td>NaN</td>\n",
       "    </tr>\n",
       "  </tbody>\n",
       "</table>\n",
       "<p>5 rows × 376 columns</p>\n",
       "</div>"
      ],
      "text/plain": [
       "  name/first name/middle name/last    name/official_full name/nickname  \\\n",
       "0    Sherrod         NaN     Brown         Sherrod Brown           NaN   \n",
       "1      Maria         NaN  Cantwell        Maria Cantwell           NaN   \n",
       "2   Benjamin          L.    Cardin    Benjamin L. Cardin           NaN   \n",
       "3     Thomas     Richard    Carper      Thomas R. Carper           NaN   \n",
       "4     Robert          P.     Casey  Robert P. Casey, Jr.           Bob   \n",
       "\n",
       "  name/suffix bio/birthday bio/gender  id/ballotpedia    id/wikipedia  \\\n",
       "0         NaN      11/9/52          M   Sherrod Brown   Sherrod Brown   \n",
       "1         NaN     10/13/58          F  Maria Cantwell  Maria Cantwell   \n",
       "2         NaN      10/5/43          M      Ben Cardin      Ben Cardin   \n",
       "3         NaN      1/23/47          M      Tom Carper      Tom Carper   \n",
       "4         Jr.      4/13/60          M  Bob Casey, Jr.   Bob Casey Jr.   \n",
       "\n",
       "      ...      terms/25/end  terms/25/fax terms/25/office  terms/25/party  \\\n",
       "0     ...               NaN           NaN             NaN             NaN   \n",
       "1     ...               NaN           NaN             NaN             NaN   \n",
       "2     ...               NaN           NaN             NaN             NaN   \n",
       "3     ...               NaN           NaN             NaN             NaN   \n",
       "4     ...               NaN           NaN             NaN             NaN   \n",
       "\n",
       "  terms/25/phone terms/25/rss_url terms/25/start terms/25/state terms/25/type  \\\n",
       "0            NaN              NaN            NaN            NaN           NaN   \n",
       "1            NaN              NaN            NaN            NaN           NaN   \n",
       "2            NaN              NaN            NaN            NaN           NaN   \n",
       "3            NaN              NaN            NaN            NaN           NaN   \n",
       "4            NaN              NaN            NaN            NaN           NaN   \n",
       "\n",
       "  terms/25/url  \n",
       "0          NaN  \n",
       "1          NaN  \n",
       "2          NaN  \n",
       "3          NaN  \n",
       "4          NaN  \n",
       "\n",
       "[5 rows x 376 columns]"
      ]
     },
     "execution_count": 65,
     "metadata": {},
     "output_type": "execute_result"
    }
   ],
   "source": [
    "test.head()"
   ]
  },
  {
   "cell_type": "code",
   "execution_count": 90,
   "metadata": {
    "collapsed": false
   },
   "outputs": [],
   "source": [
    "counter = 0\n",
    "for j in xrange(0,test.shape[0]):\n",
    "    counter = 0\n",
    "    test.loc[j,'yearsInCongress'] = 0\n",
    "    test.loc[j,'dateInOffice'] = test.loc[j,'terms/0/start']\n",
    "    for i in xrange(0,26):\n",
    "        \n",
    "        temp = \"terms/%i/\" % i\n",
    "        if not pd.isnull(test.loc[j,temp + 'end']):\n",
    "            if not pd.isnull(test.loc[j,temp + 'address']):\n",
    "                test.loc[j,'address'] = test.loc[j,temp+'address']\n",
    "            if not pd.isnull(test.loc[j,temp + 'contact_form']):\n",
    "                test.loc[j,'contact_form'] = test.loc[j,temp+'contact_form']\n",
    "            if not pd.isnull(test.loc[j,temp + 'url']):\n",
    "                test.loc[j,'url'] = test.loc[j,temp+'url']\n",
    "            if not pd.isnull(test.loc[j,temp + 'phone']):\n",
    "                test.loc[j,'phone'] = test.loc[j,temp+'phone']\n",
    "            test.loc[j,'endOfTerm'] = test.loc[j,temp+'end']\n",
    "            if not pd.isnull(test.loc[j,temp + 'state']):\n",
    "                test.loc[j,'state'] = test.loc[j,temp+'state']\n",
    "            if not pd.isnull(test.loc[j,temp + 'district']):\n",
    "                test.loc[j,'district'] = test.loc[j,temp+'district'] + 1\n",
    "            if not pd.isnull(test.loc[j,temp + 'office']):\n",
    "                test.loc[j,'office'] = test.loc[j,temp+'office']\n",
    "            if not pd.isnull(test.loc[j,temp + 'party']):\n",
    "                test.loc[j,'party'] = test.loc[j,temp+'party']\n",
    "            if not pd.isnull(test.loc[j,temp + 'type']):\n",
    "                test.loc[j,'position'] = test.loc[j,temp+'type']\n",
    "                if test.loc[j,temp + 'type'] == 'sen':\n",
    "                    test.loc[j,'district'] = \"\"\n",
    "                    test.loc[j,'yearsInCongress'] += 6\n",
    "                elif test.loc[j,temp + 'type'] == 'rep':\n",
    "                    test.loc[j,'yearsInCongress'] += 2\n",
    "        else:\n",
    "            break\n",
    "        "
   ]
  },
  {
   "cell_type": "code",
   "execution_count": 91,
   "metadata": {
    "collapsed": true
   },
   "outputs": [],
   "source": [
    "expcols=['name/official_full',\n",
    "'bio/birthday',\n",
    "'bio/gender',\n",
    "'address',\n",
    "'contact_form',\n",
    "'url',\n",
    "'phone',\n",
    "'party',\n",
    "'dateInOffice',\n",
    "'endOfTerm',\n",
    "'yearsInCongress',\n",
    "'state',\n",
    "'district',\n",
    "'office',\n",
    "'position']\n",
    "\n",
    "test.to_csv('hopethisworks.csv',columns=expcols)"
   ]
  },
  {
   "cell_type": "code",
   "execution_count": 99,
   "metadata": {
    "collapsed": true
   },
   "outputs": [],
   "source": [
    "quotes = pd.read_csv('denierquotes.csv')\n",
    "final = pd.read_csv('congressFINAL.csv')"
   ]
  },
  {
   "cell_type": "code",
   "execution_count": 102,
   "metadata": {
    "collapsed": false
   },
   "outputs": [
    {
     "data": {
      "text/html": [
       "<div>\n",
       "<table border=\"1\" class=\"dataframe\">\n",
       "  <thead>\n",
       "    <tr style=\"text-align: right;\">\n",
       "      <th></th>\n",
       "      <th>Name</th>\n",
       "      <th>BirthDate</th>\n",
       "      <th>CurrentDate</th>\n",
       "      <th>CurrentAge</th>\n",
       "      <th>Gender</th>\n",
       "      <th>Address</th>\n",
       "      <th>Contact_URL</th>\n",
       "      <th>Url</th>\n",
       "      <th>Phone</th>\n",
       "      <th>Party</th>\n",
       "      <th>...</th>\n",
       "      <th>AgeAtTakingOfficeYear</th>\n",
       "      <th>StateAbb</th>\n",
       "      <th>State</th>\n",
       "      <th>District</th>\n",
       "      <th>OfficeAddress</th>\n",
       "      <th>Position</th>\n",
       "      <th>BelieveClimateChange</th>\n",
       "      <th>Quote</th>\n",
       "      <th>QuoteSource</th>\n",
       "      <th>QuoteURL</th>\n",
       "    </tr>\n",
       "  </thead>\n",
       "  <tbody>\n",
       "    <tr>\n",
       "      <th>0</th>\n",
       "      <td>Adam B. Schiff</td>\n",
       "      <td>22-Jun-60</td>\n",
       "      <td>15-Dec-16</td>\n",
       "      <td>56</td>\n",
       "      <td>M</td>\n",
       "      <td>2411 Rayburn HOB; Washington DC 20515-0528</td>\n",
       "      <td>https://schiff.house.gov/contact</td>\n",
       "      <td>http://schiff.house.gov</td>\n",
       "      <td>202-225-4176</td>\n",
       "      <td>Democrat</td>\n",
       "      <td>...</td>\n",
       "      <td>40</td>\n",
       "      <td>CA</td>\n",
       "      <td>California</td>\n",
       "      <td>29.0</td>\n",
       "      <td>2411 Rayburn House Office Building</td>\n",
       "      <td>rep</td>\n",
       "      <td>Yes</td>\n",
       "      <td>NaN</td>\n",
       "      <td>NaN</td>\n",
       "      <td>NaN</td>\n",
       "    </tr>\n",
       "    <tr>\n",
       "      <th>1</th>\n",
       "      <td>Adam Kinzinger</td>\n",
       "      <td>27-Feb-78</td>\n",
       "      <td>15-Dec-16</td>\n",
       "      <td>38</td>\n",
       "      <td>M</td>\n",
       "      <td>1221 Longworth HOB; Washington DC 20515-1316</td>\n",
       "      <td>https://kinzinger.house.gov/email-adam</td>\n",
       "      <td>http://kinzinger.house.gov</td>\n",
       "      <td>202-225-3635</td>\n",
       "      <td>Republican</td>\n",
       "      <td>...</td>\n",
       "      <td>32</td>\n",
       "      <td>IL</td>\n",
       "      <td>Illinois</td>\n",
       "      <td>17.0</td>\n",
       "      <td>1221 Longworth House Office Building</td>\n",
       "      <td>rep</td>\n",
       "      <td>NaN</td>\n",
       "      <td>NaN</td>\n",
       "      <td>NaN</td>\n",
       "      <td>NaN</td>\n",
       "    </tr>\n",
       "    <tr>\n",
       "      <th>2</th>\n",
       "      <td>Adam Smith</td>\n",
       "      <td>15-Jun-65</td>\n",
       "      <td>15-Dec-16</td>\n",
       "      <td>51</td>\n",
       "      <td>M</td>\n",
       "      <td>2264 Rayburn HOB; Washington DC 20515-4709</td>\n",
       "      <td>https://adamsmith.house.gov/contact/contactfor...</td>\n",
       "      <td>https://adamsmith.house.gov</td>\n",
       "      <td>202-225-8901</td>\n",
       "      <td>Democrat</td>\n",
       "      <td>...</td>\n",
       "      <td>31</td>\n",
       "      <td>WA</td>\n",
       "      <td>Washington</td>\n",
       "      <td>10.0</td>\n",
       "      <td>2264 Rayburn House Office Building</td>\n",
       "      <td>rep</td>\n",
       "      <td>Yes</td>\n",
       "      <td>NaN</td>\n",
       "      <td>NaN</td>\n",
       "      <td>NaN</td>\n",
       "    </tr>\n",
       "    <tr>\n",
       "      <th>3</th>\n",
       "      <td>Adrian Smith</td>\n",
       "      <td>19-Dec-70</td>\n",
       "      <td>15-Dec-16</td>\n",
       "      <td>45</td>\n",
       "      <td>M</td>\n",
       "      <td>2241 Rayburn HOB; Washington DC 20515-2703</td>\n",
       "      <td>https://adriansmith.house.gov/contact-me/email-me</td>\n",
       "      <td>http://adriansmith.house.gov</td>\n",
       "      <td>202-225-6435</td>\n",
       "      <td>Republican</td>\n",
       "      <td>...</td>\n",
       "      <td>36</td>\n",
       "      <td>NE</td>\n",
       "      <td>Nebraska</td>\n",
       "      <td>4.0</td>\n",
       "      <td>2241 Rayburn House Office Building</td>\n",
       "      <td>rep</td>\n",
       "      <td>NaN</td>\n",
       "      <td>NaN</td>\n",
       "      <td>NaN</td>\n",
       "      <td>NaN</td>\n",
       "    </tr>\n",
       "    <tr>\n",
       "      <th>4</th>\n",
       "      <td>Al Franken</td>\n",
       "      <td>21-May-51</td>\n",
       "      <td>15-Dec-16</td>\n",
       "      <td>65</td>\n",
       "      <td>M</td>\n",
       "      <td>309 Hart Senate Office Building Washington DC ...</td>\n",
       "      <td>http://www.franken.senate.gov/?p=email_al</td>\n",
       "      <td>https://www.franken.senate.gov</td>\n",
       "      <td>202-224-5641</td>\n",
       "      <td>Democrat</td>\n",
       "      <td>...</td>\n",
       "      <td>58</td>\n",
       "      <td>MN</td>\n",
       "      <td>Minnesota</td>\n",
       "      <td>NaN</td>\n",
       "      <td>309 Hart Senate Office Building</td>\n",
       "      <td>sen</td>\n",
       "      <td>Yes</td>\n",
       "      <td>NaN</td>\n",
       "      <td>NaN</td>\n",
       "      <td>NaN</td>\n",
       "    </tr>\n",
       "  </tbody>\n",
       "</table>\n",
       "<p>5 rows × 23 columns</p>\n",
       "</div>"
      ],
      "text/plain": [
       "             Name  BirthDate CurrentDate  CurrentAge Gender  \\\n",
       "0  Adam B. Schiff  22-Jun-60   15-Dec-16          56      M   \n",
       "1  Adam Kinzinger  27-Feb-78   15-Dec-16          38      M   \n",
       "2      Adam Smith  15-Jun-65   15-Dec-16          51      M   \n",
       "3    Adrian Smith  19-Dec-70   15-Dec-16          45      M   \n",
       "4      Al Franken  21-May-51   15-Dec-16          65      M   \n",
       "\n",
       "                                             Address  \\\n",
       "0         2411 Rayburn HOB; Washington DC 20515-0528   \n",
       "1       1221 Longworth HOB; Washington DC 20515-1316   \n",
       "2         2264 Rayburn HOB; Washington DC 20515-4709   \n",
       "3         2241 Rayburn HOB; Washington DC 20515-2703   \n",
       "4  309 Hart Senate Office Building Washington DC ...   \n",
       "\n",
       "                                         Contact_URL  \\\n",
       "0                   https://schiff.house.gov/contact   \n",
       "1             https://kinzinger.house.gov/email-adam   \n",
       "2  https://adamsmith.house.gov/contact/contactfor...   \n",
       "3  https://adriansmith.house.gov/contact-me/email-me   \n",
       "4          http://www.franken.senate.gov/?p=email_al   \n",
       "\n",
       "                              Url         Phone       Party   ...     \\\n",
       "0         http://schiff.house.gov  202-225-4176    Democrat   ...      \n",
       "1      http://kinzinger.house.gov  202-225-3635  Republican   ...      \n",
       "2     https://adamsmith.house.gov  202-225-8901    Democrat   ...      \n",
       "3    http://adriansmith.house.gov  202-225-6435  Republican   ...      \n",
       "4  https://www.franken.senate.gov  202-224-5641    Democrat   ...      \n",
       "\n",
       "  AgeAtTakingOfficeYear StateAbb       State  District  \\\n",
       "0                    40       CA  California      29.0   \n",
       "1                    32       IL    Illinois      17.0   \n",
       "2                    31       WA  Washington      10.0   \n",
       "3                    36       NE    Nebraska       4.0   \n",
       "4                    58       MN   Minnesota       NaN   \n",
       "\n",
       "                          OfficeAddress Position  BelieveClimateChange Quote  \\\n",
       "0    2411 Rayburn House Office Building      rep                   Yes   NaN   \n",
       "1  1221 Longworth House Office Building      rep                   NaN   NaN   \n",
       "2    2264 Rayburn House Office Building      rep                   Yes   NaN   \n",
       "3    2241 Rayburn House Office Building      rep                   NaN   NaN   \n",
       "4       309 Hart Senate Office Building      sen                   Yes   NaN   \n",
       "\n",
       "  QuoteSource QuoteURL  \n",
       "0         NaN      NaN  \n",
       "1         NaN      NaN  \n",
       "2         NaN      NaN  \n",
       "3         NaN      NaN  \n",
       "4         NaN      NaN  \n",
       "\n",
       "[5 rows x 23 columns]"
      ]
     },
     "execution_count": 102,
     "metadata": {},
     "output_type": "execute_result"
    }
   ],
   "source": [
    "final.head(5)"
   ]
  },
  {
   "cell_type": "code",
   "execution_count": 110,
   "metadata": {
    "collapsed": false
   },
   "outputs": [
    {
     "data": {
      "text/plain": [
       "182"
      ]
     },
     "execution_count": 110,
     "metadata": {},
     "output_type": "execute_result"
    }
   ],
   "source": [
    "len(quotes.loc[:,'nameFull'].values)"
   ]
  },
  {
   "cell_type": "code",
   "execution_count": 111,
   "metadata": {
    "collapsed": false
   },
   "outputs": [
    {
     "name": "stdout",
     "output_type": "stream",
     "text": [
      "119\n"
     ]
    }
   ],
   "source": [
    "done = []\n",
    "count = 0\n",
    "\n",
    "for x in xrange(0,quotes.shape[0]):\n",
    "    for y in xrange(0,final.shape[0]):\n",
    "        if quotes.iloc[x]['nameFull'] == final.iloc[y]['Name']:\n",
    "            final.loc[y,'BelieveClimateChange'] = \"No\"\n",
    "            final.loc[y,'Quote'] = quotes.iloc[x]['quote']\n",
    "            final.loc[y,'QuoteSource'] = quotes.iloc[x]['quoteRef']\n",
    "            final.loc[y,'QuoteURL'] = quotes.iloc[x]['quoteRefUrl']\n",
    "            done.append(quotes.iloc[x]['nameFull'])\n",
    "            count +=1\n",
    "            break\n",
    "            \n",
    "print count"
   ]
  },
  {
   "cell_type": "code",
   "execution_count": 114,
   "metadata": {
    "collapsed": true
   },
   "outputs": [],
   "source": [
    "def diff(first, second):\n",
    "        second = set(second)\n",
    "        return [item for item in first if item not in second]"
   ]
  },
  {
   "cell_type": "code",
   "execution_count": 116,
   "metadata": {
    "collapsed": false
   },
   "outputs": [],
   "source": [
    "diff = diff(quotes.loc[:,'nameFull'].values,done)"
   ]
  },
  {
   "cell_type": "code",
   "execution_count": 118,
   "metadata": {
    "collapsed": false
   },
   "outputs": [
    {
     "name": "stdout",
     "output_type": "stream",
     "text": [
      "63\n"
     ]
    }
   ],
   "source": [
    "print len(diff)"
   ]
  },
  {
   "cell_type": "code",
   "execution_count": 119,
   "metadata": {
    "collapsed": true
   },
   "outputs": [],
   "source": [
    "final.to_csv(\"congresswithquotes.csv\")"
   ]
  },
  {
   "cell_type": "code",
   "execution_count": 121,
   "metadata": {
    "collapsed": false
   },
   "outputs": [
    {
     "name": "stdout",
     "output_type": "stream",
     "text": [
      "['Alex Mooney', 'Andrew Harris', 'Richard Shelby', 'Dan Sullivan', 'Buddy Carter', 'Candice Miller', 'Charles Dent', 'Chuck Fleischmann', 'Cynthia Lummis', 'Darrell Issa', 'David McKinley', 'Dennis Ross', 'Ed Whitfield', 'Evan Jenkins', 'Frank Guinta', 'Frank Lucas', 'Dan Coats', 'Gary Palmer', 'Jim Sensenbrenner', 'Jimmy Duncan', 'Jody Hice', 'John Carter', 'John Culberson', 'Roger Wicker', 'Keith Rothfus', 'Kristi Noem', 'Lamar S Smith', 'Lee Zeldin', 'Lynn Westmoreland', 'Mark Amodei', 'Marlin Stutzman', 'Michael C Burgess', 'Michael McCaul', 'Mike Conaway', 'Mike Simpson', 'Morgan Griffith', 'Jim Inhofe', 'Pat Tiberi', 'Patrick McHenry', 'Paul Gosar', 'Paul Ryan', 'Peter King', 'Peter Roskam', 'Pat Toomey', 'Phil Roe', 'Randy Forbes', 'Randy Weber', 'Raul Labrador', 'Rick Allen', 'Rick Crawford', 'Rob Wittman', 'Robert Aderholt', 'Rodney Frelinghuysen', 'Ryan Zinke', 'Scott Rigell', 'Scott Tipton', 'Steve Pearce', 'Orrin Hatch', 'Ted Yoho', 'Timothy F Murphy', 'Todd Young', 'Walter Jones Jr.', 'Mike Enzi']\n"
     ]
    }
   ],
   "source": [
    "print diff"
   ]
  },
  {
   "cell_type": "code",
   "execution_count": null,
   "metadata": {
    "collapsed": true
   },
   "outputs": [],
   "source": []
  }
 ],
 "metadata": {
  "anaconda-cloud": {},
  "kernelspec": {
   "display_name": "Python [Root]",
   "language": "python",
   "name": "Python [Root]"
  },
  "language_info": {
   "codemirror_mode": {
    "name": "ipython",
    "version": 2
   },
   "file_extension": ".py",
   "mimetype": "text/x-python",
   "name": "python",
   "nbconvert_exporter": "python",
   "pygments_lexer": "ipython2",
   "version": "2.7.12"
  }
 },
 "nbformat": 4,
 "nbformat_minor": 0
}
