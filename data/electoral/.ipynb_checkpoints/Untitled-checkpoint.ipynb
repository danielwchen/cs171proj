{
 "cells": [
  {
   "cell_type": "code",
   "execution_count": 1,
   "metadata": {
    "collapsed": true
   },
   "outputs": [],
   "source": [
    "import pandas as pd"
   ]
  },
  {
   "cell_type": "code",
   "execution_count": 6,
   "metadata": {
    "collapsed": true
   },
   "outputs": [],
   "source": [
    "reps = pd.read_csv('reps.csv')\n",
    "reps2 = pd.read_csv('reps2.csv')"
   ]
  },
  {
   "cell_type": "code",
   "execution_count": 8,
   "metadata": {
    "collapsed": false
   },
   "outputs": [
    {
     "data": {
      "text/html": [
       "<div>\n",
       "<table border=\"1\" class=\"dataframe\">\n",
       "  <thead>\n",
       "    <tr style=\"text-align: right;\">\n",
       "      <th></th>\n",
       "      <th>nameFull</th>\n",
       "      <th>careerContributions</th>\n",
       "      <th>imageUrl</th>\n",
       "      <th>quote</th>\n",
       "      <th>stateAbr</th>\n",
       "      <th>quoteAnchor</th>\n",
       "      <th>quoteRef</th>\n",
       "      <th>quoteRefUrl</th>\n",
       "    </tr>\n",
       "  </thead>\n",
       "  <tbody>\n",
       "    <tr>\n",
       "      <th>0</th>\n",
       "      <td>Robert Aderholt</td>\n",
       "      <td>$358,030</td>\n",
       "      <td>http://interactives.americanprogressaction.org...</td>\n",
       "      <td>\"I fall into the second group of people who be...</td>\n",
       "      <td>AL</td>\n",
       "      <td>fhkltihov</td>\n",
       "      <td>Daily Mountain Eagle Op-Ed, 12/13/10</td>\n",
       "      <td>https://aderholt.house.gov/media-center/in-the...</td>\n",
       "    </tr>\n",
       "    <tr>\n",
       "      <th>1</th>\n",
       "      <td>Mo Brooks</td>\n",
       "      <td>$21,500</td>\n",
       "      <td>http://interactives.americanprogressaction.org...</td>\n",
       "      <td>�I�m also old enough to remember when the same...</td>\n",
       "      <td>AL</td>\n",
       "      <td>xoprlcvym</td>\n",
       "      <td>Science Insider, 2/9/11</td>\n",
       "      <td>http://www.sciencemag.org/news/2011/02/healthy...</td>\n",
       "    </tr>\n",
       "    <tr>\n",
       "      <th>2</th>\n",
       "      <td>Gary Palmer</td>\n",
       "      <td>$51,850</td>\n",
       "      <td>http://interactives.americanprogressaction.org...</td>\n",
       "      <td>�I have a long history of advocating for commo...</td>\n",
       "      <td>AL</td>\n",
       "      <td>jiekrzjyd</td>\n",
       "      <td>Palmer Website, 4/17/15</td>\n",
       "      <td>https://palmer.house.gov/media-center/in-the-n...</td>\n",
       "    </tr>\n",
       "    <tr>\n",
       "      <th>3</th>\n",
       "      <td>Jeff Sessions</td>\n",
       "      <td>$500,700</td>\n",
       "      <td>http://interactives.americanprogressaction.org...</td>\n",
       "      <td>�Although the president has repeatedly claimed...</td>\n",
       "      <td>AL</td>\n",
       "      <td>exkunkipi</td>\n",
       "      <td>USA Today, 10/13/15</td>\n",
       "      <td>http://www.usatoday.com/story/opinion/2015/10/...</td>\n",
       "    </tr>\n",
       "    <tr>\n",
       "      <th>4</th>\n",
       "      <td>Richard Shelby</td>\n",
       "      <td>$703,746</td>\n",
       "      <td>http://interactives.americanprogressaction.org...</td>\n",
       "      <td>�Important scientific research is ongoing, and...</td>\n",
       "      <td>AL</td>\n",
       "      <td>rqqdxxgsg</td>\n",
       "      <td>Weld for Birmingham, 4/29/15</td>\n",
       "      <td>http://weldbham.com/blog/2015/04/29/richard-sh...</td>\n",
       "    </tr>\n",
       "  </tbody>\n",
       "</table>\n",
       "</div>"
      ],
      "text/plain": [
       "          nameFull careerContributions  \\\n",
       "0  Robert Aderholt            $358,030   \n",
       "1        Mo Brooks             $21,500   \n",
       "2      Gary Palmer             $51,850   \n",
       "3    Jeff Sessions            $500,700   \n",
       "4   Richard Shelby            $703,746   \n",
       "\n",
       "                                            imageUrl  \\\n",
       "0  http://interactives.americanprogressaction.org...   \n",
       "1  http://interactives.americanprogressaction.org...   \n",
       "2  http://interactives.americanprogressaction.org...   \n",
       "3  http://interactives.americanprogressaction.org...   \n",
       "4  http://interactives.americanprogressaction.org...   \n",
       "\n",
       "                                               quote stateAbr quoteAnchor  \\\n",
       "0  \"I fall into the second group of people who be...       AL   fhkltihov   \n",
       "1  �I�m also old enough to remember when the same...       AL   xoprlcvym   \n",
       "2  �I have a long history of advocating for commo...       AL   jiekrzjyd   \n",
       "3  �Although the president has repeatedly claimed...       AL   exkunkipi   \n",
       "4  �Important scientific research is ongoing, and...       AL   rqqdxxgsg   \n",
       "\n",
       "                               quoteRef  \\\n",
       "0  Daily Mountain Eagle Op-Ed, 12/13/10   \n",
       "1               Science Insider, 2/9/11   \n",
       "2               Palmer Website, 4/17/15   \n",
       "3                   USA Today, 10/13/15   \n",
       "4          Weld for Birmingham, 4/29/15   \n",
       "\n",
       "                                         quoteRefUrl  \n",
       "0  https://aderholt.house.gov/media-center/in-the...  \n",
       "1  http://www.sciencemag.org/news/2011/02/healthy...  \n",
       "2  https://palmer.house.gov/media-center/in-the-n...  \n",
       "3  http://www.usatoday.com/story/opinion/2015/10/...  \n",
       "4  http://weldbham.com/blog/2015/04/29/richard-sh...  "
      ]
     },
     "execution_count": 8,
     "metadata": {},
     "output_type": "execute_result"
    }
   ],
   "source": [
    "reps.head()"
   ]
  },
  {
   "cell_type": "raw",
   "metadata": {},
   "source": []
  }
 ],
 "metadata": {
  "anaconda-cloud": {},
  "kernelspec": {
   "display_name": "Python [Root]",
   "language": "python",
   "name": "Python [Root]"
  },
  "language_info": {
   "codemirror_mode": {
    "name": "ipython",
    "version": 2
   },
   "file_extension": ".py",
   "mimetype": "text/x-python",
   "name": "python",
   "nbconvert_exporter": "python",
   "pygments_lexer": "ipython2",
   "version": "2.7.12"
  }
 },
 "nbformat": 4,
 "nbformat_minor": 0
}
