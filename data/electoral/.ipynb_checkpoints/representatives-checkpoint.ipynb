{
 "cells": [
  {
   "cell_type": "code",
   "execution_count": 1,
   "metadata": {
    "collapsed": true
   },
   "outputs": [],
   "source": [
    "import pandas as pd"
   ]
  },
  {
   "cell_type": "code",
   "execution_count": 62,
   "metadata": {
    "collapsed": true
   },
   "outputs": [],
   "source": [
    "reps = pd.read_csv('reps.csv')\n",
    "reps2 = pd.read_csv('reps2.csv')"
   ]
  },
  {
   "cell_type": "code",
   "execution_count": 68,
   "metadata": {
    "collapsed": false
   },
   "outputs": [
    {
     "data": {
      "text/html": [
       "<div>\n",
       "<table border=\"1\" class=\"dataframe\">\n",
       "  <thead>\n",
       "    <tr style=\"text-align: right;\">\n",
       "      <th></th>\n",
       "      <th>nameFull</th>\n",
       "      <th>careerContributions</th>\n",
       "      <th>imageUrl</th>\n",
       "      <th>quote</th>\n",
       "      <th>stateAbr</th>\n",
       "      <th>quoteAnchor</th>\n",
       "      <th>quoteRef</th>\n",
       "      <th>quoteRefUrl</th>\n",
       "    </tr>\n",
       "  </thead>\n",
       "  <tbody>\n",
       "    <tr>\n",
       "      <th>0</th>\n",
       "      <td>Robert Aderholt</td>\n",
       "      <td>$358,030</td>\n",
       "      <td>http://interactives.americanprogressaction.org...</td>\n",
       "      <td>\"I fall into the second group of people who be...</td>\n",
       "      <td>AL</td>\n",
       "      <td>fhkltihov</td>\n",
       "      <td>Daily Mountain Eagle Op-Ed, 12/13/10</td>\n",
       "      <td>https://aderholt.house.gov/media-center/in-the...</td>\n",
       "    </tr>\n",
       "  </tbody>\n",
       "</table>\n",
       "</div>"
      ],
      "text/plain": [
       "          nameFull careerContributions  \\\n",
       "0  Robert Aderholt            $358,030   \n",
       "\n",
       "                                            imageUrl  \\\n",
       "0  http://interactives.americanprogressaction.org...   \n",
       "\n",
       "                                               quote stateAbr quoteAnchor  \\\n",
       "0  \"I fall into the second group of people who be...       AL   fhkltihov   \n",
       "\n",
       "                               quoteRef  \\\n",
       "0  Daily Mountain Eagle Op-Ed, 12/13/10   \n",
       "\n",
       "                                         quoteRefUrl  \n",
       "0  https://aderholt.house.gov/media-center/in-the...  "
      ]
     },
     "execution_count": 68,
     "metadata": {},
     "output_type": "execute_result"
    }
   ],
   "source": [
    "reps.head(1)"
   ]
  },
  {
   "cell_type": "code",
   "execution_count": 69,
   "metadata": {
    "collapsed": false
   },
   "outputs": [
    {
     "data": {
      "text/html": [
       "<div>\n",
       "<table border=\"1\" class=\"dataframe\">\n",
       "  <thead>\n",
       "    <tr style=\"text-align: right;\">\n",
       "      <th></th>\n",
       "      <th>District</th>\n",
       "      <th>Party</th>\n",
       "      <th>Representative</th>\n",
       "      <th>MarginOfVictory</th>\n",
       "      <th>TotalVotes</th>\n",
       "      <th>MainOpposition</th>\n",
       "      <th>BelieveClimateChange</th>\n",
       "      <th>BirthDate</th>\n",
       "      <th>DateInOffice</th>\n",
       "      <th>AgeAtTakingOfficeYear</th>\n",
       "      <th>...</th>\n",
       "      <th>AgeAtTakingOfficeDay</th>\n",
       "      <th>NotableQuote</th>\n",
       "      <th>YearNextElection</th>\n",
       "      <th>115Member</th>\n",
       "      <th>ProportionOfConstituentsWhoBelieveInClimateChange</th>\n",
       "      <th>PercentMarginOfPresidentialCandidateVictory</th>\n",
       "      <th>Unnamed: 17</th>\n",
       "      <th>Unnamed: 18</th>\n",
       "      <th>Unnamed: 19</th>\n",
       "      <th>Unnamed: 20</th>\n",
       "    </tr>\n",
       "  </thead>\n",
       "  <tbody>\n",
       "    <tr>\n",
       "      <th>0</th>\n",
       "      <td>Alabama District 1</td>\n",
       "      <td>Republican</td>\n",
       "      <td>Bradley Byrne</td>\n",
       "      <td>100.0%</td>\n",
       "      <td>Pending</td>\n",
       "      <td>Unopposed</td>\n",
       "      <td>NaN</td>\n",
       "      <td>NaN</td>\n",
       "      <td>NaN</td>\n",
       "      <td>NaN</td>\n",
       "      <td>...</td>\n",
       "      <td>NaN</td>\n",
       "      <td>NaN</td>\n",
       "      <td>NaN</td>\n",
       "      <td>NaN</td>\n",
       "      <td>NaN</td>\n",
       "      <td>NaN</td>\n",
       "      <td>NaN</td>\n",
       "      <td>NaN</td>\n",
       "      <td>NaN</td>\n",
       "      <td>NaN</td>\n",
       "    </tr>\n",
       "  </tbody>\n",
       "</table>\n",
       "<p>1 rows × 21 columns</p>\n",
       "</div>"
      ],
      "text/plain": [
       "             District       Party Representative MarginOfVictory TotalVotes  \\\n",
       "0  Alabama District 1  Republican  Bradley Byrne          100.0%    Pending   \n",
       "\n",
       "  MainOpposition  BelieveClimateChange  BirthDate  DateInOffice  \\\n",
       "0      Unopposed                   NaN        NaN           NaN   \n",
       "\n",
       "   AgeAtTakingOfficeYear     ...       AgeAtTakingOfficeDay  NotableQuote  \\\n",
       "0                    NaN     ...                        NaN           NaN   \n",
       "\n",
       "   YearNextElection  115Member  \\\n",
       "0               NaN        NaN   \n",
       "\n",
       "   ProportionOfConstituentsWhoBelieveInClimateChange  \\\n",
       "0                                                NaN   \n",
       "\n",
       "   PercentMarginOfPresidentialCandidateVictory  Unnamed: 17  Unnamed: 18  \\\n",
       "0                                          NaN          NaN          NaN   \n",
       "\n",
       "   Unnamed: 19  Unnamed: 20  \n",
       "0          NaN          NaN  \n",
       "\n",
       "[1 rows x 21 columns]"
      ]
     },
     "execution_count": 69,
     "metadata": {},
     "output_type": "execute_result"
    }
   ],
   "source": [
    "reps2.head(1)"
   ]
  },
  {
   "cell_type": "code",
   "execution_count": 71,
   "metadata": {
    "collapsed": false
   },
   "outputs": [
    {
     "name": "stdout",
     "output_type": "stream",
     "text": [
      "Robert Aderholt\n",
      "Mo Brooks\n",
      "Gary Palmer\n",
      "Don Young\n",
      "Paul Gosar\n",
      "David Schweikert\n",
      "Trent Franks\n",
      "Rick Crawford\n",
      "Bruce Westerman\n",
      "Doug LaMalfa\n",
      "Tom McClintock\n",
      "Jeff Denham\n",
      "Devin Nunes\n",
      "Ken Calvert\n",
      "Dana Rohrabacher\n",
      "Darrell Issa\n",
      "Duncan Hunter\n",
      "Scott Tipton\n",
      "Ken Buck\n",
      "Doug Lamborn\n",
      "Mike Coffman\n",
      "Ted Yoho\n",
      "Dennis Ross\n",
      "Bill Posey\n",
      "Mario Diaz-Balart\n",
      "Jody Hice\n",
      "Tom Price\n",
      "Doug Collins\n",
      "Barry Loudermilk\n",
      "Rick Allen\n",
      "Raul Labrador\n",
      "Peter Roskam\n",
      "Mike Bost\n",
      "Rodney Davis\n",
      "Randy Hultgren\n",
      "John Shimkus\n",
      "Todd Rokita\n",
      "Larry Bucshon\n",
      "Rod Blum\n",
      "David Young\n",
      "Steve King\n",
      "Mike Pompeo\n",
      "Thomas Massie\n",
      "Steve Scalise\n",
      "Bruce Poliquin\n",
      "Bill Huizenga\n",
      "Justin Amash\n",
      "Fred Upton\n",
      "Tim Walberg\n",
      "Erik Paulsen\n",
      "Tom Emmer\n",
      "Gregg Harper\n",
      "Ann Wagner\n",
      "Blaine Luetkemeyer\n",
      "Vicky Hartzler\n",
      "Ryan Zinke\n",
      "Adrian Smith\n",
      "Mark Amodei\n",
      "Leonard Lance\n",
      "Rodney Frelinghuysen\n",
      "Steve Pearce\n",
      "Peter King\n",
      "Lee Zeldin\n",
      "John Katko\n",
      "Virginia Foxx\n",
      "Mark Walker\n",
      "David Rouzer\n",
      "Richard Hudson\n",
      "Robert Pittenger\n",
      "Patrick McHenry\n",
      "Kevin Cramer\n",
      "Steve Chabot\n",
      "Bill Johnson\n",
      "Bob Gibbs\n",
      "Steve Stivers\n",
      "Jim Bridenstine\n",
      "Markwayne Mullin\n",
      "Frank Lucas\n",
      "Scott Perry\n",
      "Glenn Thompson\n",
      "Bill Shuster\n",
      "Lou Barletta\n",
      "Keith Rothfus\n",
      "Joe Wilson\n",
      "Jeff Duncan\n",
      "Trey Gowdy\n",
      "Mick Mulvaney\n",
      "Kristi Noem\n",
      "Phil Roe\n",
      "Diane Black\n",
      "Marsha Blackburn\n",
      "Louie Gohmert\n",
      "Ted Poe\n",
      "Joe Barton\n",
      "John Culberson\n",
      "Michael McCaul\n",
      "Mike Conaway\n",
      "Mac Thornberry\n",
      "Randy Weber\n",
      "Bill Flores\n",
      "Pete Olson\n",
      "Blake Farenthold\n",
      "John Carter\n",
      "Rob Bishop\n",
      "Chris Stewart\n",
      "Jason Chaffetz\n",
      "Rob Wittman\n",
      "Bob Goodlatte\n",
      "Morgan Griffith\n",
      "Cathy McMorris Rodgers\n",
      "David McKinley\n",
      "Evan Jenkins\n",
      "Paul Ryan\n",
      "Jim Sensenbrenner\n",
      "Glenn Grothman\n",
      "115\n"
     ]
    }
   ],
   "source": [
    "count = 0\n",
    "\n",
    "for x in xrange(0,reps.shape[0]):\n",
    "    for y in xrange(0,reps2.shape[0]):\n",
    "        if reps.iloc[x]['nameFull'] == reps2.iloc[y]['Representative']:\n",
    "            print reps.iloc[x]['nameFull']\n",
    "            reps2.loc[y,'BelieveClimateChange'] = \"No\"\n",
    "            reps2.loc[y,'NotableQuote'] = reps.iloc[x]['quote']\n",
    "            count += 1;\n",
    "            break\n",
    "print count"
   ]
  },
  {
   "cell_type": "code",
   "execution_count": 6,
   "metadata": {
    "collapsed": false
   },
   "outputs": [
    {
     "name": "stdout",
     "output_type": "stream",
     "text": [
      "182\n"
     ]
    }
   ],
   "source": [
    "print reps.shape[0]"
   ]
  },
  {
   "cell_type": "code",
   "execution_count": 58,
   "metadata": {
    "collapsed": false
   },
   "outputs": [],
   "source": [
    "cong114 = pd.read_csv('114.txt')\n",
    "cong115 = pd.read_csv('115.txt')"
   ]
  },
  {
   "cell_type": "code",
   "execution_count": 48,
   "metadata": {
    "collapsed": false
   },
   "outputs": [
    {
     "data": {
      "text/html": [
       "<div>\n",
       "<table border=\"1\" class=\"dataframe\">\n",
       "  <thead>\n",
       "    <tr style=\"text-align: right;\">\n",
       "      <th></th>\n",
       "      <th>Rep</th>\n",
       "      <th>State</th>\n",
       "      <th>District</th>\n",
       "      <th>Representative</th>\n",
       "      <th>State.1</th>\n",
       "      <th>District.1</th>\n",
       "      <th>BirthDate</th>\n",
       "      <th>DateInOffice</th>\n",
       "      <th>AgeAtTakingOfficeYear</th>\n",
       "      <th>AgeAtTakingOfficeDay</th>\n",
       "      <th>...</th>\n",
       "      <th>Party</th>\n",
       "      <th>BelieveClimateChange</th>\n",
       "      <th>CurrentAge</th>\n",
       "      <th>NotableQuote</th>\n",
       "      <th>YearNextElection</th>\n",
       "      <th>114Member</th>\n",
       "      <th>115Member</th>\n",
       "      <th>ProportionOfConstituentsWhoBelieveInClimateChange</th>\n",
       "      <th>PercentMarginOfSenateWin</th>\n",
       "      <th>PercentMarginOfPresidentialCandidateVictory</th>\n",
       "    </tr>\n",
       "  </thead>\n",
       "  <tbody>\n",
       "    <tr>\n",
       "      <th>0</th>\n",
       "      <td>Bradley Byrne</td>\n",
       "      <td>NaN</td>\n",
       "      <td>NaN</td>\n",
       "      <td>NaN</td>\n",
       "      <td>NaN</td>\n",
       "      <td>NaN</td>\n",
       "      <td>NaN</td>\n",
       "      <td>NaN</td>\n",
       "      <td>NaN</td>\n",
       "      <td>NaN</td>\n",
       "      <td>...</td>\n",
       "      <td>NaN</td>\n",
       "      <td>NaN</td>\n",
       "      <td>NaN</td>\n",
       "      <td>NaN</td>\n",
       "      <td>NaN</td>\n",
       "      <td>NaN</td>\n",
       "      <td>NaN</td>\n",
       "      <td>NaN</td>\n",
       "      <td>NaN</td>\n",
       "      <td>NaN</td>\n",
       "    </tr>\n",
       "    <tr>\n",
       "      <th>1</th>\n",
       "      <td>Martha Roby</td>\n",
       "      <td>NaN</td>\n",
       "      <td>NaN</td>\n",
       "      <td>NaN</td>\n",
       "      <td>NaN</td>\n",
       "      <td>NaN</td>\n",
       "      <td>NaN</td>\n",
       "      <td>NaN</td>\n",
       "      <td>NaN</td>\n",
       "      <td>NaN</td>\n",
       "      <td>...</td>\n",
       "      <td>NaN</td>\n",
       "      <td>NaN</td>\n",
       "      <td>NaN</td>\n",
       "      <td>NaN</td>\n",
       "      <td>NaN</td>\n",
       "      <td>NaN</td>\n",
       "      <td>NaN</td>\n",
       "      <td>NaN</td>\n",
       "      <td>NaN</td>\n",
       "      <td>NaN</td>\n",
       "    </tr>\n",
       "    <tr>\n",
       "      <th>2</th>\n",
       "      <td>Mike Rogers</td>\n",
       "      <td>NaN</td>\n",
       "      <td>NaN</td>\n",
       "      <td>NaN</td>\n",
       "      <td>NaN</td>\n",
       "      <td>NaN</td>\n",
       "      <td>NaN</td>\n",
       "      <td>NaN</td>\n",
       "      <td>NaN</td>\n",
       "      <td>NaN</td>\n",
       "      <td>...</td>\n",
       "      <td>NaN</td>\n",
       "      <td>NaN</td>\n",
       "      <td>NaN</td>\n",
       "      <td>NaN</td>\n",
       "      <td>NaN</td>\n",
       "      <td>NaN</td>\n",
       "      <td>NaN</td>\n",
       "      <td>NaN</td>\n",
       "      <td>NaN</td>\n",
       "      <td>NaN</td>\n",
       "    </tr>\n",
       "    <tr>\n",
       "      <th>3</th>\n",
       "      <td>Robert Aderholt</td>\n",
       "      <td>NaN</td>\n",
       "      <td>NaN</td>\n",
       "      <td>NaN</td>\n",
       "      <td>NaN</td>\n",
       "      <td>NaN</td>\n",
       "      <td>NaN</td>\n",
       "      <td>NaN</td>\n",
       "      <td>NaN</td>\n",
       "      <td>NaN</td>\n",
       "      <td>...</td>\n",
       "      <td>NaN</td>\n",
       "      <td>NaN</td>\n",
       "      <td>NaN</td>\n",
       "      <td>NaN</td>\n",
       "      <td>NaN</td>\n",
       "      <td>NaN</td>\n",
       "      <td>NaN</td>\n",
       "      <td>NaN</td>\n",
       "      <td>NaN</td>\n",
       "      <td>NaN</td>\n",
       "    </tr>\n",
       "    <tr>\n",
       "      <th>4</th>\n",
       "      <td>Mo Brooks</td>\n",
       "      <td>NaN</td>\n",
       "      <td>NaN</td>\n",
       "      <td>NaN</td>\n",
       "      <td>NaN</td>\n",
       "      <td>NaN</td>\n",
       "      <td>NaN</td>\n",
       "      <td>NaN</td>\n",
       "      <td>NaN</td>\n",
       "      <td>NaN</td>\n",
       "      <td>...</td>\n",
       "      <td>NaN</td>\n",
       "      <td>NaN</td>\n",
       "      <td>NaN</td>\n",
       "      <td>NaN</td>\n",
       "      <td>NaN</td>\n",
       "      <td>NaN</td>\n",
       "      <td>NaN</td>\n",
       "      <td>NaN</td>\n",
       "      <td>NaN</td>\n",
       "      <td>NaN</td>\n",
       "    </tr>\n",
       "  </tbody>\n",
       "</table>\n",
       "<p>5 rows × 21 columns</p>\n",
       "</div>"
      ],
      "text/plain": [
       "               Rep  State  District  Representative  State.1  District.1  \\\n",
       "0    Bradley Byrne    NaN       NaN             NaN      NaN         NaN   \n",
       "1      Martha Roby    NaN       NaN             NaN      NaN         NaN   \n",
       "2      Mike Rogers    NaN       NaN             NaN      NaN         NaN   \n",
       "3  Robert Aderholt    NaN       NaN             NaN      NaN         NaN   \n",
       "4        Mo Brooks    NaN       NaN             NaN      NaN         NaN   \n",
       "\n",
       "   BirthDate  DateInOffice  AgeAtTakingOfficeYear  AgeAtTakingOfficeDay  \\\n",
       "0        NaN           NaN                    NaN                   NaN   \n",
       "1        NaN           NaN                    NaN                   NaN   \n",
       "2        NaN           NaN                    NaN                   NaN   \n",
       "3        NaN           NaN                    NaN                   NaN   \n",
       "4        NaN           NaN                    NaN                   NaN   \n",
       "\n",
       "                      ...                       Party  BelieveClimateChange  \\\n",
       "0                     ...                         NaN                   NaN   \n",
       "1                     ...                         NaN                   NaN   \n",
       "2                     ...                         NaN                   NaN   \n",
       "3                     ...                         NaN                   NaN   \n",
       "4                     ...                         NaN                   NaN   \n",
       "\n",
       "   CurrentAge  NotableQuote  YearNextElection  114Member  115Member  \\\n",
       "0         NaN           NaN               NaN        NaN        NaN   \n",
       "1         NaN           NaN               NaN        NaN        NaN   \n",
       "2         NaN           NaN               NaN        NaN        NaN   \n",
       "3         NaN           NaN               NaN        NaN        NaN   \n",
       "4         NaN           NaN               NaN        NaN        NaN   \n",
       "\n",
       "   ProportionOfConstituentsWhoBelieveInClimateChange  \\\n",
       "0                                                NaN   \n",
       "1                                                NaN   \n",
       "2                                                NaN   \n",
       "3                                                NaN   \n",
       "4                                                NaN   \n",
       "\n",
       "   PercentMarginOfSenateWin  PercentMarginOfPresidentialCandidateVictory  \n",
       "0                       NaN                                          NaN  \n",
       "1                       NaN                                          NaN  \n",
       "2                       NaN                                          NaN  \n",
       "3                       NaN                                          NaN  \n",
       "4                       NaN                                          NaN  \n",
       "\n",
       "[5 rows x 21 columns]"
      ]
     },
     "execution_count": 48,
     "metadata": {},
     "output_type": "execute_result"
    }
   ],
   "source": [
    "cong115.head()"
   ]
  },
  {
   "cell_type": "code",
   "execution_count": 67,
   "metadata": {
    "collapsed": false
   },
   "outputs": [],
   "source": [
    "freshmen = []\n",
    "oldmen = []\n",
    "\n",
    "for i in xrange(0,435):\n",
    "    if cong115.iloc[i].Rep != cong114.iloc[i].Rep:\n",
    "        freshmen.append(cong115.iloc[i].Rep)\n",
    "        oldmen.append(cong114.iloc[i].Rep)\n",
    "    "
   ]
  },
  {
   "cell_type": "code",
   "execution_count": null,
   "metadata": {
    "collapsed": true
   },
   "outputs": [],
   "source": [
    "count = 0\n",
    "\n",
    "for x in xrange(0,reps2.shape[0]):\n",
    "    for y in oldmen:\n",
    "        if reps2.iloc[x]['Representative'] == y:\n",
    "            reps2.loc[x,'115Member'] = 0\n",
    "            count += 1;\n",
    "            break\n",
    "print count"
   ]
  },
  {
   "cell_type": "code",
   "execution_count": 72,
   "metadata": {
    "collapsed": false
   },
   "outputs": [
    {
     "data": {
      "text/plain": [
       "79"
      ]
     },
     "execution_count": 72,
     "metadata": {},
     "output_type": "execute_result"
    }
   ],
   "source": [
    "len(oldmen)"
   ]
  },
  {
   "cell_type": "code",
   "execution_count": 59,
   "metadata": {
    "collapsed": false
   },
   "outputs": [],
   "source": [
    "cong115.loc[0,'BelieveClimateChange'] = \"Yes\""
   ]
  },
  {
   "cell_type": "raw",
   "metadata": {},
   "source": []
  },
  {
   "cell_type": "code",
   "execution_count": 57,
   "metadata": {
    "collapsed": false
   },
   "outputs": [
    {
     "name": "stdout",
     "output_type": "stream",
     "text": [
      "Rep                                                  Bradley Byrne\n",
      "State                                                          NaN\n",
      "District                                                       NaN\n",
      "Representative                                                 NaN\n",
      "State.1                                                        NaN\n",
      "District.1                                                     NaN\n",
      "BirthDate                                                      NaN\n",
      "DateInOffice                                                   NaN\n",
      "AgeAtTakingOfficeYear                                          NaN\n",
      "AgeAtTakingOfficeDay                                           NaN\n",
      "YearsInOffice                                                  NaN\n",
      "Party                                                          NaN\n",
      "BelieveClimateChange                                           Yes\n",
      "CurrentAge                                                     NaN\n",
      "NotableQuote                                                   NaN\n",
      "YearNextElection                                               NaN\n",
      "114Member                                                      NaN\n",
      "115Member                                                      NaN\n",
      "ProportionOfConstituentsWhoBelieveInClimateChange              NaN\n",
      "PercentMarginOfSenateWin                                       NaN\n",
      "PercentMarginOfPresidentialCandidateVictory                    NaN\n",
      "Name: 0, dtype: object\n"
     ]
    }
   ],
   "source": [
    "print cong115.iloc[0]"
   ]
  },
  {
   "cell_type": "code",
   "execution_count": 66,
   "metadata": {
    "collapsed": false
   },
   "outputs": [
    {
     "name": "stdout",
     "output_type": "stream",
     "text": [
      "['Ann Kirkpatrick', 'Matt Salmon', 'Mike Honda', 'Sam Farr', 'Lois Capps', 'Tony Cardenas', 'Janice Hahn', 'Loretta Sanchez', 'John Larson', 'John Carney', 'Jeff Miller', 'Gwen Graham', 'Ander Crenshaw', 'Corrine Brown', 'John Mica', 'Alan Grayson', 'Daniel Webster', 'Rich Nugent', 'David Jolly', 'Dennis Ross', 'Patrick Murphy', 'Curt Clawson', 'Ted Deutch', 'Lois Frankel', 'Debbie Wasserman Schult', 'Mario Diaz-Balart', 'Lynn Westmoreland', 'Rick Allen', 'Raul Labrador', 'Danny Davis', 'Tammy Duckworth', 'Robert Dold', 'Marlin Stutzman', 'Todd Young', 'David Loebsack', 'Tim Huelskamp', 'Charles Boustany', 'John Fleming', 'Donna Edwards', 'Chris Van Hollen', 'Joe Kennedy', 'Stephen Lynch', 'Dan Benishek', 'Candice Miller', 'John Kline', 'Jason Smith', 'Brad Ashford', 'Joe Heck', 'Cresent Hardy', 'Frank Guinta', 'Scott Garrett', 'Peter King', 'Steve Israel', 'Daniel Donovan', 'Charles Rangel', 'Chris Gibson', 'Richard Hanna', 'Thomas Reed', 'Renee Ellmers', 'Walter Jones', 'George Holding', 'Mike Fitzpatrick', 'Michael Doyle', 'Charles Dent', 'Joe Pitts', 'Tim Murphy', 'Stephen Fincher', 'Ruben Hinojosa', 'Randy Neugebauer', 'Joaquin Castro', 'Lamar Smith', 'Michael Burgess', 'Filemon Vela', 'Scott Rigell', 'Randy Forbes', 'Robert Hurt', 'Jim McDermott', 'Reid Ribble', 'Cynthia Lummis']\n"
     ]
    }
   ],
   "source": [
    "print freshmen"
   ]
  },
  {
   "cell_type": "code",
   "execution_count": null,
   "metadata": {
    "collapsed": true
   },
   "outputs": [],
   "source": []
  },
  {
   "cell_type": "code",
   "execution_count": null,
   "metadata": {
    "collapsed": true
   },
   "outputs": [],
   "source": []
  }
 ],
 "metadata": {
  "anaconda-cloud": {},
  "kernelspec": {
   "display_name": "Python [Root]",
   "language": "python",
   "name": "Python [Root]"
  },
  "language_info": {
   "codemirror_mode": {
    "name": "ipython",
    "version": 2
   },
   "file_extension": ".py",
   "mimetype": "text/x-python",
   "name": "python",
   "nbconvert_exporter": "python",
   "pygments_lexer": "ipython2",
   "version": "2.7.12"
  }
 },
 "nbformat": 4,
 "nbformat_minor": 0
}
